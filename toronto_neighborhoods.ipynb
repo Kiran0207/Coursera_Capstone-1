{
 "cells": [
  {
   "cell_type": "markdown",
   "id": "legitimate-sessions",
   "metadata": {},
   "source": [
    "# **Webscraping of Toronto neighborhoods**\n",
    "## Objectives\n",
    "\n",
    "In this notebook we asemble the basic information about neighborhoods of Toronto, Ca.\n",
    "\n",
    "This notebook is divided in two tasks:\n",
    "\n",
    "1. Download from wikipedia all the neighborhoods from the city of Toronto, Ca.\n",
    "2. Assign latlongs foreach neighborhood."
   ]
  },
  {
   "cell_type": "markdown",
   "id": "anticipated-aside",
   "metadata": {},
   "source": [
    "## Loading base packages"
   ]
  },
  {
   "cell_type": "code",
   "execution_count": 1,
   "id": "fixed-algeria",
   "metadata": {},
   "outputs": [],
   "source": [
    "#!pip install bs4\n",
    "#!pip install requestsanaco\n",
    "#!pip3 install html5lib\n",
    "\n",
    "# Loading base packages\n",
    "import numpy as np # library to handle data in a vectorized manner\n",
    "import pandas as pd # library for data analsysis\n",
    "import html5lib\n",
    "from bs4 import BeautifulSoup # this module helps in web scrapping.\n",
    "import requests  # this module helps us to download a web page"
   ]
  },
  {
   "cell_type": "markdown",
   "id": "together-murder",
   "metadata": {},
   "source": [
    "## 1. Wikipedia webscraping\n",
    "\n",
    "Once found the convinient URL we retrive it trhought requests and parse it using beautifulsoup"
   ]
  },
  {
   "cell_type": "code",
   "execution_count": 2,
   "id": "cloudy-validation",
   "metadata": {},
   "outputs": [],
   "source": [
    "url = \"https://en.wikipedia.org/wiki/List_of_postal_codes_of_Canada:_M\"\n",
    "data  = requests.get(url).text \n",
    "soup = BeautifulSoup(data,\"html5lib\")"
   ]
  },
  {
   "cell_type": "markdown",
   "id": "amended-illustration",
   "metadata": {},
   "source": [
    "The relevant information is withing the first table, so is enoguth to find \"table\" (or just to soup.table), thus, it's the first one."
   ]
  },
  {
   "cell_type": "code",
   "execution_count": 3,
   "id": "casual-interpretation",
   "metadata": {},
   "outputs": [],
   "source": [
    "table_contents=[]\n",
    "table=soup.find('table')\n",
    "for row in table.findAll('td'):\n",
    "    cell = {}\n",
    "    if row.span.text=='Not assigned':\n",
    "        pass\n",
    "    else:\n",
    "        cell['PostalCode'] = row.p.text[:3]\n",
    "        cell['Borough'] = (row.span.text).split('(')[0]\n",
    "        cell['Neighborhood'] = (((((row.span.text).split('(')[1]).strip(')')).replace(' /',',')).replace(')',' ')).strip(' ')\n",
    "        table_contents.append(cell)\n",
    "\n",
    "# print(table_contents)\n",
    "df=pd.DataFrame(table_contents)"
   ]
  },
  {
   "cell_type": "code",
   "execution_count": 4,
   "id": "assisted-matrix",
   "metadata": {},
   "outputs": [],
   "source": [
    "df['Borough']=df['Borough'].replace({'Downtown TorontoStn A PO Boxes25 The Esplanade':'Downtown Toronto Stn A',\n",
    "                                             'East TorontoBusiness reply mail Processing Centre969 Eastern':'East Toronto Business',\n",
    "                                             'EtobicokeNorthwest':'Etobicoke Northwest','East YorkEast Toronto':'East York/East Toronto',\n",
    "                                             'MississaugaCanada Post Gateway Processing Centre':'Mississauga'})"
   ]
  },
  {
   "cell_type": "markdown",
   "id": "later-aviation",
   "metadata": {},
   "source": [
    "## 2. Requesting latlong\n",
    "\n",
    "We will use geoencoder package with arcgis engine to get latlons. In order to do so we define the next function. It will be applied foreach postalcode element in the dataframe we just created."
   ]
  },
  {
   "cell_type": "code",
   "execution_count": 10,
   "id": "romantic-cardiff",
   "metadata": {},
   "outputs": [],
   "source": [
    "def get_latlng(PostalCode):\n",
    "    import geocoder\n",
    "    g = geocoder.arcgis('{}, Toronto, Ontario'.format(PostalCode))\n",
    "    return pd.Series([g.latlng[0], g.latlng[1]])"
   ]
  },
  {
   "cell_type": "code",
   "execution_count": 11,
   "id": "federal-watch",
   "metadata": {},
   "outputs": [],
   "source": [
    "df[[\"Latitude\",\"Longitude\"]]=df.PostalCode.apply(get_latlng)"
   ]
  },
  {
   "cell_type": "code",
   "execution_count": 12,
   "id": "gothic-guinea",
   "metadata": {},
   "outputs": [
    {
     "data": {
      "text/html": [
       "<div>\n",
       "<style scoped>\n",
       "    .dataframe tbody tr th:only-of-type {\n",
       "        vertical-align: middle;\n",
       "    }\n",
       "\n",
       "    .dataframe tbody tr th {\n",
       "        vertical-align: top;\n",
       "    }\n",
       "\n",
       "    .dataframe thead th {\n",
       "        text-align: right;\n",
       "    }\n",
       "</style>\n",
       "<table border=\"1\" class=\"dataframe\">\n",
       "  <thead>\n",
       "    <tr style=\"text-align: right;\">\n",
       "      <th></th>\n",
       "      <th>PostalCode</th>\n",
       "      <th>Borough</th>\n",
       "      <th>Neighborhood</th>\n",
       "      <th>Latitude</th>\n",
       "      <th>Longitude</th>\n",
       "    </tr>\n",
       "  </thead>\n",
       "  <tbody>\n",
       "    <tr>\n",
       "      <th>0</th>\n",
       "      <td>M3A</td>\n",
       "      <td>North York</td>\n",
       "      <td>Parkwoods</td>\n",
       "      <td>43.75245</td>\n",
       "      <td>-79.32991</td>\n",
       "    </tr>\n",
       "    <tr>\n",
       "      <th>1</th>\n",
       "      <td>M4A</td>\n",
       "      <td>North York</td>\n",
       "      <td>Victoria Village</td>\n",
       "      <td>43.73057</td>\n",
       "      <td>-79.31306</td>\n",
       "    </tr>\n",
       "    <tr>\n",
       "      <th>2</th>\n",
       "      <td>M5A</td>\n",
       "      <td>Downtown Toronto</td>\n",
       "      <td>Regent Park, Harbourfront</td>\n",
       "      <td>43.65512</td>\n",
       "      <td>-79.36264</td>\n",
       "    </tr>\n",
       "    <tr>\n",
       "      <th>3</th>\n",
       "      <td>M6A</td>\n",
       "      <td>North York</td>\n",
       "      <td>Lawrence Manor, Lawrence Heights</td>\n",
       "      <td>43.72327</td>\n",
       "      <td>-79.45042</td>\n",
       "    </tr>\n",
       "    <tr>\n",
       "      <th>4</th>\n",
       "      <td>M7A</td>\n",
       "      <td>Queen's Park</td>\n",
       "      <td>Ontario Provincial Government</td>\n",
       "      <td>43.66253</td>\n",
       "      <td>-79.39188</td>\n",
       "    </tr>\n",
       "    <tr>\n",
       "      <th>...</th>\n",
       "      <td>...</td>\n",
       "      <td>...</td>\n",
       "      <td>...</td>\n",
       "      <td>...</td>\n",
       "      <td>...</td>\n",
       "    </tr>\n",
       "    <tr>\n",
       "      <th>98</th>\n",
       "      <td>M8X</td>\n",
       "      <td>Etobicoke</td>\n",
       "      <td>The Kingsway, Montgomery Road, Old Mill North</td>\n",
       "      <td>43.65319</td>\n",
       "      <td>-79.51113</td>\n",
       "    </tr>\n",
       "    <tr>\n",
       "      <th>99</th>\n",
       "      <td>M4Y</td>\n",
       "      <td>Downtown Toronto</td>\n",
       "      <td>Church and Wellesley</td>\n",
       "      <td>43.66659</td>\n",
       "      <td>-79.38133</td>\n",
       "    </tr>\n",
       "    <tr>\n",
       "      <th>100</th>\n",
       "      <td>M7Y</td>\n",
       "      <td>East Toronto Business</td>\n",
       "      <td>Enclave of M4L</td>\n",
       "      <td>43.64869</td>\n",
       "      <td>-79.38544</td>\n",
       "    </tr>\n",
       "    <tr>\n",
       "      <th>101</th>\n",
       "      <td>M8Y</td>\n",
       "      <td>Etobicoke</td>\n",
       "      <td>Old Mill South, King's Mill Park, Sunnylea, Hu...</td>\n",
       "      <td>43.63278</td>\n",
       "      <td>-79.48945</td>\n",
       "    </tr>\n",
       "    <tr>\n",
       "      <th>102</th>\n",
       "      <td>M8Z</td>\n",
       "      <td>Etobicoke</td>\n",
       "      <td>Mimico NW, The Queensway West, South of Bloor,...</td>\n",
       "      <td>43.62513</td>\n",
       "      <td>-79.52681</td>\n",
       "    </tr>\n",
       "  </tbody>\n",
       "</table>\n",
       "<p>103 rows × 5 columns</p>\n",
       "</div>"
      ],
      "text/plain": [
       "    PostalCode                Borough  \\\n",
       "0          M3A             North York   \n",
       "1          M4A             North York   \n",
       "2          M5A       Downtown Toronto   \n",
       "3          M6A             North York   \n",
       "4          M7A           Queen's Park   \n",
       "..         ...                    ...   \n",
       "98         M8X              Etobicoke   \n",
       "99         M4Y       Downtown Toronto   \n",
       "100        M7Y  East Toronto Business   \n",
       "101        M8Y              Etobicoke   \n",
       "102        M8Z              Etobicoke   \n",
       "\n",
       "                                          Neighborhood  Latitude  Longitude  \n",
       "0                                            Parkwoods  43.75245  -79.32991  \n",
       "1                                     Victoria Village  43.73057  -79.31306  \n",
       "2                            Regent Park, Harbourfront  43.65512  -79.36264  \n",
       "3                     Lawrence Manor, Lawrence Heights  43.72327  -79.45042  \n",
       "4                        Ontario Provincial Government  43.66253  -79.39188  \n",
       "..                                                 ...       ...        ...  \n",
       "98       The Kingsway, Montgomery Road, Old Mill North  43.65319  -79.51113  \n",
       "99                                Church and Wellesley  43.66659  -79.38133  \n",
       "100                                     Enclave of M4L  43.64869  -79.38544  \n",
       "101  Old Mill South, King's Mill Park, Sunnylea, Hu...  43.63278  -79.48945  \n",
       "102  Mimico NW, The Queensway West, South of Bloor,...  43.62513  -79.52681  \n",
       "\n",
       "[103 rows x 5 columns]"
      ]
     },
     "execution_count": 12,
     "metadata": {},
     "output_type": "execute_result"
    }
   ],
   "source": [
    "df"
   ]
  }
 ],
 "metadata": {
  "kernelspec": {
   "display_name": "Python 3",
   "language": "python",
   "name": "python3"
  },
  "language_info": {
   "codemirror_mode": {
    "name": "ipython",
    "version": 3
   },
   "file_extension": ".py",
   "mimetype": "text/x-python",
   "name": "python",
   "nbconvert_exporter": "python",
   "pygments_lexer": "ipython3",
   "version": "3.9.2"
  }
 },
 "nbformat": 4,
 "nbformat_minor": 5
}
